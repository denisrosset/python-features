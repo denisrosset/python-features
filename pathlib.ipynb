{
 "cells": [
  {
   "cell_type": "markdown",
   "metadata": {
    "collapsed": true,
    "pycharm": {
     "name": "#%% md\n"
    }
   },
   "source": [
    "# Pathlib examples\n",
    "\n",
    "Starting from Python 3.4, `pathlib` is an object-oriented API for path manipulation.\n",
    "\n",
    "(I'm not working with Windows on the RASSINE/YARARA project, but `pathlib` abstracts over Windows/Linux/macOS differences.)\n",
    "\n",
    "A `Path` can be absolute or relative.\n",
    "\n",
    "When joining paths, the last absolute path overrides the rest."
   ]
  },
  {
   "cell_type": "code",
   "execution_count": 2,
   "outputs": [
    {
     "data": {
      "text/plain": "PosixPath('/etc/X11/xorg.conf')"
     },
     "execution_count": 2,
     "metadata": {},
     "output_type": "execute_result"
    }
   ],
   "source": [
    "from pathlib import Path\n",
    "\n",
    "p = Path('/usr', 'lib', '/etc', 'X11', 'xorg.conf')\n",
    "p"
   ],
   "metadata": {
    "collapsed": false,
    "pycharm": {
     "name": "#%%\n"
    }
   }
  },
  {
   "cell_type": "markdown",
   "source": [
    "## Properties"
   ],
   "metadata": {
    "collapsed": false,
    "pycharm": {
     "name": "#%% md\n"
    }
   }
  },
  {
   "cell_type": "code",
   "execution_count": 3,
   "outputs": [
    {
     "data": {
      "text/plain": "True"
     },
     "execution_count": 3,
     "metadata": {},
     "output_type": "execute_result"
    }
   ],
   "source": [
    "p.is_file()"
   ],
   "metadata": {
    "collapsed": false,
    "pycharm": {
     "name": "#%%\n"
    }
   }
  },
  {
   "cell_type": "code",
   "execution_count": 4,
   "outputs": [
    {
     "data": {
      "text/plain": "False"
     },
     "execution_count": 4,
     "metadata": {},
     "output_type": "execute_result"
    }
   ],
   "source": [
    "p.is_dir()"
   ],
   "metadata": {
    "collapsed": false,
    "pycharm": {
     "name": "#%%\n"
    }
   }
  },
  {
   "cell_type": "markdown",
   "source": [
    "## Parts\n",
    "\n",
    "A `Path` has different parts.\n",
    "\n",
    "### For \"filenames\""
   ],
   "metadata": {
    "collapsed": false,
    "pycharm": {
     "name": "#%% md\n"
    }
   }
  },
  {
   "cell_type": "code",
   "execution_count": 11,
   "outputs": [
    {
     "data": {
      "text/plain": "'xorg.conf'"
     },
     "execution_count": 11,
     "metadata": {},
     "output_type": "execute_result"
    }
   ],
   "source": [
    "p.name # returns the path element after the last `/` or `\\`"
   ],
   "metadata": {
    "collapsed": false,
    "pycharm": {
     "name": "#%%\n"
    }
   }
  },
  {
   "cell_type": "code",
   "execution_count": 8,
   "outputs": [
    {
     "data": {
      "text/plain": "'xorg'"
     },
     "execution_count": 8,
     "metadata": {},
     "output_type": "execute_result"
    }
   ],
   "source": [
    "p.stem"
   ],
   "metadata": {
    "collapsed": false,
    "pycharm": {
     "name": "#%%\n"
    }
   }
  },
  {
   "cell_type": "code",
   "execution_count": 9,
   "outputs": [
    {
     "data": {
      "text/plain": "'.conf'"
     },
     "execution_count": 9,
     "metadata": {},
     "output_type": "execute_result"
    }
   ],
   "source": [
    "p.suffix # extension"
   ],
   "metadata": {
    "collapsed": false,
    "pycharm": {
     "name": "#%%\n"
    }
   }
  },
  {
   "cell_type": "code",
   "execution_count": 10,
   "outputs": [
    {
     "data": {
      "text/plain": "['.conf']"
     },
     "execution_count": 10,
     "metadata": {},
     "output_type": "execute_result"
    }
   ],
   "source": [
    "p.suffixes # useful to split complex extensions such as \"test.tar.gz\""
   ],
   "metadata": {
    "collapsed": false,
    "pycharm": {
     "name": "#%%\n"
    }
   }
  },
  {
   "cell_type": "markdown",
   "source": [
    "## Parent directories"
   ],
   "metadata": {
    "collapsed": false,
    "pycharm": {
     "name": "#%% md\n"
    }
   }
  },
  {
   "cell_type": "code",
   "execution_count": 12,
   "outputs": [
    {
     "data": {
      "text/plain": "PosixPath('/etc/X11')"
     },
     "execution_count": 12,
     "metadata": {},
     "output_type": "execute_result"
    }
   ],
   "source": [
    "p.parent"
   ],
   "metadata": {
    "collapsed": false,
    "pycharm": {
     "name": "#%%\n"
    }
   }
  },
  {
   "cell_type": "code",
   "execution_count": 14,
   "outputs": [
    {
     "data": {
      "text/plain": "[PosixPath('/etc/X11'), PosixPath('/etc'), PosixPath('/')]"
     },
     "execution_count": 14,
     "metadata": {},
     "output_type": "execute_result"
    }
   ],
   "source": [
    "list(p.parents)"
   ],
   "metadata": {
    "collapsed": false,
    "pycharm": {
     "name": "#%%\n"
    }
   }
  },
  {
   "cell_type": "markdown",
   "source": [
    "## Composing paths"
   ],
   "metadata": {
    "collapsed": false,
    "pycharm": {
     "name": "#%% md\n"
    }
   }
  },
  {
   "cell_type": "code",
   "source": [
    "filename = Path('xorg.conf')\n",
    "p = Path('/etc') / 'X11' / filename\n",
    "p"
   ],
   "metadata": {
    "collapsed": false,
    "pycharm": {
     "name": "#%%\n"
    }
   },
   "execution_count": 5,
   "outputs": [
    {
     "data": {
      "text/plain": "PosixPath('/etc/X11/xorg.conf')"
     },
     "execution_count": 5,
     "metadata": {},
     "output_type": "execute_result"
    }
   ]
  },
  {
   "cell_type": "code",
   "execution_count": 6,
   "outputs": [
    {
     "data": {
      "text/plain": "PosixPath('/etc/X11/xorg.conf/..')"
     },
     "execution_count": 6,
     "metadata": {},
     "output_type": "execute_result"
    }
   ],
   "source": [
    "p / '..' # keeps the .."
   ],
   "metadata": {
    "collapsed": false,
    "pycharm": {
     "name": "#%%\n"
    }
   }
  },
  {
   "cell_type": "code",
   "execution_count": 9,
   "outputs": [
    {
     "data": {
      "text/plain": "PosixPath('/etc/X11')"
     },
     "execution_count": 9,
     "metadata": {},
     "output_type": "execute_result"
    }
   ],
   "source": [
    "(p / '..').resolve() # resolves links as well"
   ],
   "metadata": {
    "collapsed": false,
    "pycharm": {
     "name": "#%%\n"
    }
   }
  },
  {
   "cell_type": "code",
   "execution_count": 18,
   "outputs": [
    {
     "data": {
      "text/plain": "[]"
     },
     "execution_count": 18,
     "metadata": {},
     "output_type": "execute_result"
    }
   ],
   "source": [
    "p = Path('/nonexisting') / 'thisisbad' / '..'\n",
    "list(p.glob('*.test'))"
   ],
   "metadata": {
    "collapsed": false,
    "pycharm": {
     "name": "#%%\n"
    }
   }
  },
  {
   "cell_type": "markdown",
   "source": [
    "## Glob!"
   ],
   "metadata": {
    "collapsed": false,
    "pycharm": {
     "name": "#%% md\n"
    }
   }
  },
  {
   "cell_type": "code",
   "execution_count": 19,
   "outputs": [
    {
     "data": {
      "text/plain": "[PosixPath('/etc/apt/sources.list'), PosixPath('/etc/apt/debian.list')]"
     },
     "execution_count": 19,
     "metadata": {},
     "output_type": "execute_result"
    }
   ],
   "source": [
    "p = Path('/etc/apt')\n",
    "# only in the folder\n",
    "list(p.glob('*.list'))"
   ],
   "metadata": {
    "collapsed": false,
    "pycharm": {
     "name": "#%%\n"
    }
   }
  },
  {
   "cell_type": "code",
   "execution_count": 23,
   "outputs": [
    {
     "data": {
      "text/plain": "[PosixPath('/etc/apt/debian.list'),\n PosixPath('/etc/apt/sources.list'),\n PosixPath('/etc/apt/sources.list.d/dropbox.list'),\n PosixPath('/etc/apt/sources.list.d/github_git-lfs.list'),\n PosixPath('/etc/apt/sources.list.d/graphics-drivers-ubuntu-ppa-focal.list'),\n PosixPath('/etc/apt/sources.list.d/graphics:darktable.list'),\n PosixPath('/etc/apt/sources.list.d/jonaski-ubuntu-strawberry-focal.list'),\n PosixPath('/etc/apt/sources.list.d/kelleyk-ubuntu-emacs-focal.list'),\n PosixPath('/etc/apt/sources.list.d/marin-m-ubuntu-songrec-focal.list'),\n PosixPath('/etc/apt/sources.list.d/mixxx-ubuntu-mixxx-focal.list'),\n PosixPath('/etc/apt/sources.list.d/nodesource.list'),\n PosixPath('/etc/apt/sources.list.d/sbt.list'),\n PosixPath('/etc/apt/sources.list.d/slack.list'),\n PosixPath('/etc/apt/sources.list.d/spotify.list'),\n PosixPath('/etc/apt/sources.list.d/teams.list')]"
     },
     "execution_count": 23,
     "metadata": {},
     "output_type": "execute_result"
    }
   ],
   "source": [
    "p = Path('/etc/apt')\n",
    "# in the folder and subfolders\n",
    "sorted(list(p.rglob('*.list')))"
   ],
   "metadata": {
    "collapsed": false,
    "pycharm": {
     "name": "#%%\n"
    }
   }
  },
  {
   "cell_type": "code",
   "execution_count": 22,
   "outputs": [
    {
     "data": {
      "text/plain": "'/etc/apt'"
     },
     "execution_count": 22,
     "metadata": {},
     "output_type": "execute_result"
    }
   ],
   "source": [
    "str(p)"
   ],
   "metadata": {
    "collapsed": false,
    "pycharm": {
     "name": "#%%\n"
    }
   }
  },
  {
   "cell_type": "markdown",
   "source": [
    "## Utilities"
   ],
   "metadata": {
    "collapsed": false,
    "pycharm": {
     "name": "#%% md\n"
    }
   }
  },
  {
   "cell_type": "code",
   "execution_count": 24,
   "outputs": [
    {
     "data": {
      "text/plain": "'# nvidia-xconfig: X configuration file generated by nvidia-xconfig\\n# nvidia-xconfig:  version 440.64\\n\\n\\nSection \"ServerLayout\"\\n    Identifier     \"Layout0\"\\n    Screen      0  \"Screen0\" 0 0\\n    InputDevice    \"Keyboard0\" \"CoreKeyboard\"\\n    InputDevice    \"Mouse0\" \"CorePointer\"\\nEndSection\\n\\nSection \"Files\"\\nEndSection\\n\\nSection \"InputDevice\"\\n\\n    # generated from default\\n    Identifier     \"Mouse0\"\\n    Driver         \"mouse\"\\n    Option         \"Protocol\" \"auto\"\\n    Option         \"Device\" \"/dev/psaux\"\\n    Option         \"Emulate3Buttons\" \"no\"\\n    Option         \"ZAxisMapping\" \"4 5\"\\nEndSection\\n\\nSection \"InputDevice\"\\n\\n    # generated from default\\n    Identifier     \"Keyboard0\"\\n    Driver         \"kbd\"\\nEndSection\\n\\nSection \"Monitor\"\\n    Identifier     \"Monitor0\"\\n    VendorName     \"Unknown\"\\n    ModelName      \"Unknown\"\\n    Option         \"DPMS\"\\nEndSection\\n\\nSection \"Device\"\\n    Identifier     \"Device0\"\\n    Driver         \"nvidia\"\\n    VendorName     \"NVIDIA Corporation\"\\nEndSection\\n\\nSection \"Screen\"\\n    Identifier     \"Screen0\"\\n    Device         \"Device0\"\\n    Monitor        \"Monitor0\"\\n    DefaultDepth    24\\n    SubSection     \"Display\"\\n        Depth       24\\n    EndSubSection\\nEndSection\\n\\n'"
     },
     "execution_count": 24,
     "metadata": {},
     "output_type": "execute_result"
    }
   ],
   "source": [
    "p = Path('/etc/X11/xorg.conf')\n",
    "p.read_text()"
   ],
   "metadata": {
    "collapsed": false,
    "pycharm": {
     "name": "#%%\n"
    }
   }
  },
  {
   "cell_type": "code",
   "execution_count": 32,
   "outputs": [
    {
     "data": {
      "text/plain": "b'# nvidia-xconfig: X configuration file generated by nvidia-xconfig\\n# nvidia-xconfig:  version 440.64\\n\\n\\nSection \"ServerLayout\"\\n    Identifier     \"Layout0\"\\n    Screen      0  \"Screen0\" 0 0\\n    InputDevice    \"Keyboard0\" \"CoreKeyboard\"\\n    InputDevice    \"Mouse0\" \"CorePointer\"\\nEndSection\\n\\nSection \"Files\"\\nEndSection\\n\\nSection \"InputDevice\"\\n\\n    # generated from default\\n    Identifier     \"Mouse0\"\\n    Driver         \"mouse\"\\n    Option         \"Protocol\" \"auto\"\\n    Option         \"Device\" \"/dev/psaux\"\\n    Option         \"Emulate3Buttons\" \"no\"\\n    Option         \"ZAxisMapping\" \"4 5\"\\nEndSection\\n\\nSection \"InputDevice\"\\n\\n    # generated from default\\n    Identifier     \"Keyboard0\"\\n    Driver         \"kbd\"\\nEndSection\\n\\nSection \"Monitor\"\\n    Identifier     \"Monitor0\"\\n    VendorName     \"Unknown\"\\n    ModelName      \"Unknown\"\\n    Option         \"DPMS\"\\nEndSection\\n\\nSection \"Device\"\\n    Identifier     \"Device0\"\\n    Driver         \"nvidia\"\\n    VendorName     \"NVIDIA Corporation\"\\nEndSection\\n\\nSection \"Screen\"\\n    Identifier     \"Screen0\"\\n    Device         \"Device0\"\\n    Monitor        \"Monitor0\"\\n    DefaultDepth    24\\n    SubSection     \"Display\"\\n        Depth       24\\n    EndSubSection\\nEndSection\\n\\n'"
     },
     "execution_count": 32,
     "metadata": {},
     "output_type": "execute_result"
    }
   ],
   "source": [
    "p."
   ],
   "metadata": {
    "collapsed": false,
    "pycharm": {
     "name": "#%%\n"
    }
   }
  },
  {
   "cell_type": "markdown",
   "source": [
    "# Resources\n",
    "\n",
    "- [Official library page](https://docs.python.org/3/library/pathlib.html), see especially the end (`os.path` -> `pathlib`)\n",
    "- [Good tutorial](https://pbpython.com/pathlib-intro.html)\n",
    "- [One page cheatsheet](https://github.com/chris1610/pbpython/blob/master/extras/Pathlib-Cheatsheet.pdf)"
   ],
   "metadata": {
    "collapsed": false,
    "pycharm": {
     "name": "#%% md\n"
    }
   }
  }
 ],
 "metadata": {
  "kernelspec": {
   "display_name": "Python 3",
   "language": "python",
   "name": "python3"
  },
  "language_info": {
   "codemirror_mode": {
    "name": "ipython",
    "version": 2
   },
   "file_extension": ".py",
   "mimetype": "text/x-python",
   "name": "python",
   "nbconvert_exporter": "python",
   "pygments_lexer": "ipython2",
   "version": "2.7.6"
  }
 },
 "nbformat": 4,
 "nbformat_minor": 0
}